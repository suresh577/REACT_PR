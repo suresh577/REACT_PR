{
  "nbformat": 4,
  "nbformat_minor": 0,
  "metadata": {
    "colab": {
      "provenance": [],
      "include_colab_link": true
    },
    "kernelspec": {
      "name": "python3",
      "display_name": "Python 3"
    },
    "language_info": {
      "name": "python"
    }
  },
  "cells": [
    {
      "cell_type": "markdown",
      "metadata": {
        "id": "view-in-github",
        "colab_type": "text"
      },
      "source": [
        "<a href=\"https://colab.research.google.com/github/suresh577/REACT_PR/blob/master/EPICFINAL3.ipynb\" target=\"_parent\"><img src=\"https://colab.research.google.com/assets/colab-badge.svg\" alt=\"Open In Colab\"/></a>"
      ]
    },
    {
      "cell_type": "code",
      "execution_count": null,
      "metadata": {
        "colab": {
          "base_uri": "https://localhost:8080/"
        },
        "id": "adbEx2GU3Q2Q",
        "outputId": "cee9efbb-8db9-4a79-ff40-9bad6bfc023b"
      },
      "outputs": [
        {
          "output_type": "stream",
          "name": "stdout",
          "text": [
            "Requirement already satisfied: pandas in /usr/local/lib/python3.10/dist-packages (2.2.2)\n",
            "Requirement already satisfied: openpyxl in /usr/local/lib/python3.10/dist-packages (3.1.5)\n",
            "Requirement already satisfied: numpy>=1.22.4 in /usr/local/lib/python3.10/dist-packages (from pandas) (1.26.4)\n",
            "Requirement already satisfied: python-dateutil>=2.8.2 in /usr/local/lib/python3.10/dist-packages (from pandas) (2.8.2)\n",
            "Requirement already satisfied: pytz>=2020.1 in /usr/local/lib/python3.10/dist-packages (from pandas) (2024.2)\n",
            "Requirement already satisfied: tzdata>=2022.7 in /usr/local/lib/python3.10/dist-packages (from pandas) (2024.2)\n",
            "Requirement already satisfied: et-xmlfile in /usr/local/lib/python3.10/dist-packages (from openpyxl) (2.0.0)\n",
            "Requirement already satisfied: six>=1.5 in /usr/local/lib/python3.10/dist-packages (from python-dateutil>=2.8.2->pandas) (1.16.0)\n"
          ]
        }
      ],
      "source": [
        "!pip install pandas openpyxl"
      ]
    },
    {
      "cell_type": "code",
      "source": [
        "import pandas as pd\n",
        "from openpyxl import load_workbook\n",
        "from openpyxl.styles import PatternFill\n",
        "\n",
        "# Load the Excel file\n",
        "file_path = '/content/drive/MyDrive/final.xlsx'\n",
        "df = pd.read_excel(file_path)\n",
        "\n",
        "\n",
        "# Convert relevant columns to numeric\n",
        "df['pH'] = pd.to_numeric(df['pH'], errors='coerce')\n",
        "df['DO (mg/L)'] = pd.to_numeric(df['DO (mg/L)'], errors='coerce')\n",
        "df['Water Temp (0C)'] = pd.to_numeric(df['Water Temp (0C)'], errors='coerce')\n",
        "\n",
        "# Classification function with weighted scoring\n",
        "def classify_water_quality(pH, DO, temperature):\n",
        "    ph_thresholds = {'very_low': 5.5, 'low': 6.5, 'medium': 7.5, 'high': 8.5, 'very_high': 8.5}\n",
        "    do_thresholds = {'very_low': 2, 'low': 3, 'medium': 5, 'high': 8, 'very_high': 8}\n",
        "    temp_thresholds = {'very_low': 10, 'low': 15, 'medium': 25, 'high': 30, 'very_high': 30}\n",
        "\n",
        "    do_weight, ph_weight, temp_weight = 0.6, 0.3, 0.15\n",
        "\n",
        "    weighted_score = 0\n",
        "    # DO Score\n",
        "    if DO < do_thresholds['very_low']:\n",
        "        weighted_score += do_weight * 1\n",
        "    elif DO < do_thresholds['low']:\n",
        "        weighted_score += do_weight * 2\n",
        "    elif DO < do_thresholds['medium']:\n",
        "        weighted_score += do_weight * 3\n",
        "    elif DO < do_thresholds['high']:\n",
        "        weighted_score += do_weight * 4\n",
        "    else:\n",
        "        weighted_score += do_weight * 5\n",
        "\n",
        "    # pH Score\n",
        "    if pH < ph_thresholds['very_low']:\n",
        "        weighted_score += ph_weight * 1\n",
        "    elif pH < ph_thresholds['low']:\n",
        "        weighted_score += ph_weight * 2\n",
        "    elif pH < ph_thresholds['medium']:\n",
        "        weighted_score += ph_weight * 3\n",
        "    elif pH < ph_thresholds['high']:\n",
        "        weighted_score += ph_weight * 4\n",
        "    else:\n",
        "        weighted_score += ph_weight * 5\n",
        "\n",
        "    # Temperature Score\n",
        "    if temperature < temp_thresholds['very_low']:\n",
        "        weighted_score += temp_weight * 1\n",
        "    elif temperature < temp_thresholds['low']:\n",
        "        weighted_score += temp_weight * 2\n",
        "    elif temperature < temp_thresholds['medium']:\n",
        "        weighted_score += temp_weight * 3\n",
        "    elif temperature < temp_thresholds['high']:\n",
        "        weighted_score += temp_weight * 4\n",
        "    else:\n",
        "        weighted_score += temp_weight * 5\n",
        "\n",
        "    # Classification based on weighted score\n",
        "    if weighted_score <= 2.0:\n",
        "        return 'Very Low'\n",
        "    elif weighted_score <= 3.0:\n",
        "        return 'Low'\n",
        "    elif weighted_score <= 4.0:\n",
        "        return 'Medium'\n",
        "    elif weighted_score <= 5.0:\n",
        "        return 'High'\n",
        "    else:\n",
        "        return 'Very High'\n",
        "# Apply classification\n",
        "df['Water_Quality_Class'] = df.apply(\n",
        "    lambda row: classify_water_quality(row['pH'], row['DO (mg/L)'], row['Water Temp (0C)']),\n",
        "    axis=1\n",
        ")\n",
        "\n",
        "# Save to Excel with colors\n",
        "output_file_path = 'fine_tuned_classified_data_colored.xlsx'\n",
        "df.to_excel(output_file_path, index=False, engine='openpyxl')\n",
        "\n",
        "# Define colors for each classification\n",
        "color_map = {\n",
        "    'Very Low': '#fc0320',  # red\n",
        "    'Low': '#fc9803',       # orange\n",
        "    'Medium': '#FFFF00',    # yellow\n",
        "    'High': '#ADFF2F',      # yellow-green\n",
        "    'Very High': '#00FF00'  # green\n",
        "}\n",
        "\n",
        "# Load the workbook and worksheet\n",
        "output_file_path = 'fine_tuned_classified_data_colored.xlsx'\n",
        "wb = load_workbook(output_file_path)\n",
        "ws = wb.active\n",
        "\n",
        "# Find the index of the Water_Quality_Class column\n",
        "classification_column = ws.max_column  # Assumes 'Water_Quality_Class' is the last column\n",
        "\n",
        "# Apply fill color to each row based on the classification\n",
        "for row in ws.iter_rows(min_row=2, max_row=ws.max_row, min_col=1, max_col=ws.max_column):\n",
        "    classification = row[classification_column - 1].value  # Retrieve classification from the last column\n",
        "    fill_color = color_map.get(classification)\n",
        "\n",
        "    if fill_color:\n",
        "        # Apply color to the entire row\n",
        "        for cell in row:\n",
        "            cell.fill = PatternFill(start_color=fill_color[1:], end_color=fill_color[1:], fill_type=\"solid\")\n",
        "\n",
        "# Save the workbook with colored formatting\n",
        "wb.save(output_file_path)\n",
        "\n",
        "print(f\"Classified data with row colors has been saved to {output_file_path}\")"
      ],
      "metadata": {
        "id": "3E0NfhCT3S6o",
        "colab": {
          "base_uri": "https://localhost:8080/"
        },
        "outputId": "2d19d5d6-c14b-4b49-f6e5-7631ba4eb0d3"
      },
      "execution_count": null,
      "outputs": [
        {
          "output_type": "stream",
          "name": "stdout",
          "text": [
            "Classified data with row colors has been saved to fine_tuned_classified_data_colored.xlsx\n"
          ]
        }
      ]
    },
    {
      "cell_type": "code",
      "source": [
        "from google.colab import files\n",
        "files.download('fine_tuned_classified_data_colored.xlsx')\n"
      ],
      "metadata": {
        "id": "1N_RcUwu3ZKb",
        "colab": {
          "base_uri": "https://localhost:8080/",
          "height": 17
        },
        "outputId": "c120891b-5005-4b18-b76e-0f9f6d4820ec"
      },
      "execution_count": null,
      "outputs": [
        {
          "output_type": "display_data",
          "data": {
            "text/plain": [
              "<IPython.core.display.Javascript object>"
            ],
            "application/javascript": [
              "\n",
              "    async function download(id, filename, size) {\n",
              "      if (!google.colab.kernel.accessAllowed) {\n",
              "        return;\n",
              "      }\n",
              "      const div = document.createElement('div');\n",
              "      const label = document.createElement('label');\n",
              "      label.textContent = `Downloading \"${filename}\": `;\n",
              "      div.appendChild(label);\n",
              "      const progress = document.createElement('progress');\n",
              "      progress.max = size;\n",
              "      div.appendChild(progress);\n",
              "      document.body.appendChild(div);\n",
              "\n",
              "      const buffers = [];\n",
              "      let downloaded = 0;\n",
              "\n",
              "      const channel = await google.colab.kernel.comms.open(id);\n",
              "      // Send a message to notify the kernel that we're ready.\n",
              "      channel.send({})\n",
              "\n",
              "      for await (const message of channel.messages) {\n",
              "        // Send a message to notify the kernel that we're ready.\n",
              "        channel.send({})\n",
              "        if (message.buffers) {\n",
              "          for (const buffer of message.buffers) {\n",
              "            buffers.push(buffer);\n",
              "            downloaded += buffer.byteLength;\n",
              "            progress.value = downloaded;\n",
              "          }\n",
              "        }\n",
              "      }\n",
              "      const blob = new Blob(buffers, {type: 'application/binary'});\n",
              "      const a = document.createElement('a');\n",
              "      a.href = window.URL.createObjectURL(blob);\n",
              "      a.download = filename;\n",
              "      div.appendChild(a);\n",
              "      a.click();\n",
              "      div.remove();\n",
              "    }\n",
              "  "
            ]
          },
          "metadata": {}
        },
        {
          "output_type": "display_data",
          "data": {
            "text/plain": [
              "<IPython.core.display.Javascript object>"
            ],
            "application/javascript": [
              "download(\"download_5ad97f9e-4bb0-4ac5-97b2-fe4063327b35\", \"fine_tuned_classified_data_colored.xlsx\", 147459)"
            ]
          },
          "metadata": {}
        }
      ]
    },
    {
      "cell_type": "code",
      "execution_count": null,
      "metadata": {
        "colab": {
          "base_uri": "https://localhost:8080/",
          "height": 755
        },
        "outputId": "bd693b13-63f2-4911-8ec0-862961e8a72e",
        "id": "8U-n1yZqeVSL"
      },
      "outputs": [
        {
          "output_type": "stream",
          "name": "stderr",
          "text": [
            "<ipython-input-7-4e21385283ba>:23: FutureWarning: \n",
            "\n",
            "Passing `palette` without assigning `hue` is deprecated and will be removed in v0.14.0. Assign the `x` variable to `hue` and set `legend=False` for the same effect.\n",
            "\n",
            "  ax = sns.countplot(\n",
            "<ipython-input-7-4e21385283ba>:36: UserWarning: set_ticklabels() should only be used with a fixed number of ticks, i.e. after set_ticks() or using a FixedLocator.\n",
            "  ax.set_xticklabels(ax.get_xticklabels(), rotation=30, ha='right')\n"
          ]
        },
        {
          "output_type": "display_data",
          "data": {
            "text/plain": [
              "<Figure size 1000x600 with 1 Axes>"
            ],
            "image/png": "[encoded data removed]"
          },
          "metadata": {}
        }
      ],
      "source": [
        "import matplotlib.pyplot as plt\n",
        "import seaborn as sns\n",
        "\n",
        "# Set plot style\n",
        "sns.set(style='whitegrid')\n",
        "\n",
        "# Custom color palette for water quality classes\n",
        "custom_colors = {\n",
        "    'Very Low': '#fc0320',  # Red\n",
        "    'Low': '#fc9803',       # Orange\n",
        "    'Medium': '#FFFF00',    # Yellow\n",
        "    'High': '#ADFF2F',      # Yellow-Green\n",
        "    'Very High': '#00FF00'  # Green\n",
        "}\n",
        "\n",
        "# Convert color mapping into a list format for seaborn\n",
        "color_palette = [custom_colors[cls] for cls in ['Very Low', 'Low', 'Medium', 'High', 'Very High']]\n",
        "\n",
        "# Create a figure with a customized size\n",
        "plt.figure(figsize=(10, 6))\n",
        "\n",
        "# Generate a countplot with the specified color palette\n",
        "ax = sns.countplot(\n",
        "    x='Water_Quality_Class',\n",
        "    data=df,\n",
        "    palette=color_palette,\n",
        "    order=['Very Low', 'Low', 'Medium', 'High', 'Very High']\n",
        ")\n",
        "\n",
        "# Add title and labels with consistent font size and weight\n",
        "plt.title('Distribution of Water Quality Classes', fontsize=18, fontweight='bold')\n",
        "plt.xlabel('Water Quality Class', fontsize=14)\n",
        "plt.ylabel('Count', fontsize=14)\n",
        "\n",
        "# Rotate x-axis labels for better readability\n",
        "ax.set_xticklabels(ax.get_xticklabels(), rotation=30, ha='right')\n",
        "\n",
        "# Add count labels above each bar\n",
        "for p in ax.patches:\n",
        "    ax.annotate(f'{int(p.get_height())}',\n",
        "                (p.get_x() + p.get_width() / 2., p.get_height()),\n",
        "                ha='center', va='bottom', xytext=(0, 5),\n",
        "                textcoords='offset points', fontsize=12, fontweight='bold', color='black')\n",
        "\n",
        "# Set grid style\n",
        "plt.grid(axis='y', linestyle='--', alpha=0.5)\n",
        "\n",
        "# Display the plot\n",
        "plt.show()\n"
      ]
    }
  ]
}